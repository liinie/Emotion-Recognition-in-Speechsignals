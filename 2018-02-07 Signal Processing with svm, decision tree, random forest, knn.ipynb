{
 "cells": [
  {
   "cell_type": "code",
   "execution_count": 2,
   "metadata": {
    "scrolled": true
   },
   "outputs": [],
   "source": [
    "import numpy as np\n",
    "import matplotlib.pyplot as plt\n",
    "import wave\n",
    "import math\n",
    "from scipy.io import wavfile\n",
    "from scipy import signal\n",
    "import os\n",
    "import glob\n",
    "import re\n",
    "import mglearn\n",
    "\n",
    "from sklearn.svm import SVC\n",
    "from sklearn.model_selection import train_test_split\n",
    "from sklearn.model_selection import cross_val_score"
   ]
  },
  {
   "cell_type": "markdown",
   "metadata": {},
   "source": [
    "### read wave file"
   ]
  },
  {
   "cell_type": "code",
   "execution_count": 12,
   "metadata": {},
   "outputs": [
    {
     "data": {
      "text/plain": [
       "(44100, 16749, 32768.0)"
      ]
     },
     "execution_count": 12,
     "metadata": {},
     "output_type": "execute_result"
    }
   ],
   "source": [
    "filename = r'C:\\Python_Project\\SpeechRecognition\\savee_data\\AudioData\\DC\\sa12.wav'\n",
    "sampFreq, speech_data = wavfile.read(filename)"
   ]
  },
  {
   "cell_type": "code",
   "execution_count": 7,
   "metadata": {},
   "outputs": [
    {
     "data": {
      "text/plain": [
       "(1, 2, 44100, 237142)"
      ]
     },
     "execution_count": 7,
     "metadata": {},
     "output_type": "execute_result"
    }
   ],
   "source": [
    "f = wave.open(filename, 'rb')\n",
    "# (nchannels, sampwidth, framerate, nframes, comptype, compname)\n",
    "nchannels, sampwidth, framerate, nframes, _, _ = f.getparams()\n",
    "f.close()\n",
    "nchannels, sampwidth, framerate, nframes"
   ]
  },
  {
   "cell_type": "code",
   "execution_count": 8,
   "metadata": {},
   "outputs": [
    {
     "data": {
      "text/plain": [
       "[<matplotlib.lines.Line2D at 0x1b7c9e64978>]"
      ]
     },
     "execution_count": 8,
     "metadata": {},
     "output_type": "execute_result"
    },
    {
     "data": {
      "image/png": "[encoded data removed]",
      "text/plain": [
       "<matplotlib.figure.Figure at 0x1b7c9f13780>"
      ]
     },
     "metadata": {},
     "output_type": "display_data"
    }
   ],
   "source": [
    "plt.plot(speech_data)"
   ]
  },
  {
   "cell_type": "markdown",
   "metadata": {},
   "source": [
    "### normalization"
   ]
  },
  {
   "cell_type": "code",
   "execution_count": 13,
   "metadata": {},
   "outputs": [
    {
     "data": {
      "text/plain": [
       "(0.511138916015625, -0.4168701171875)"
      ]
     },
     "execution_count": 13,
     "metadata": {},
     "output_type": "execute_result"
    },
    {
     "data": {
      "image/png": "[encoded data removed]",
      "text/plain": [
       "<matplotlib.figure.Figure at 0x1b7c8e5b438>"
      ]
     },
     "metadata": {},
     "output_type": "display_data"
    }
   ],
   "source": [
    "def normalization(speech_data):\n",
    "    return speech_data /(2.** (sampwidth * 8 - 1))\n",
    "\n",
    "speech_data = normalization(speech_data)\n",
    "plt.plot(speech_data)\n",
    "plt.xlabel(\"Time\")\n",
    "plt.ylabel(\"Amplitude\")\n",
    "max(speech_data), min(speech_data)"
   ]
  },
  {
   "cell_type": "markdown",
   "metadata": {},
   "source": [
    "### enframing"
   ]
  },
  {
   "cell_type": "code",
   "execution_count": 9,
   "metadata": {},
   "outputs": [],
   "source": [
    "def enframing(speech_data, framerate):\n",
    "    framesize = int(framerate * 30/1000) #number of frames within 30 ms. \n",
    "    framestep = int(framesize/2)\n",
    "    num = len(speech_data)\n",
    "    fn = math.ceil((num - framesize)/framestep + 1) # how many steps we need to iterate all frames\n",
    "#     print(fn)\n",
    "    speech_enframe = np.zeros(shape=(framesize, fn))\n",
    "    x_hamming = signal.hamming(framesize)\n",
    "#     print(f\"hamming shape {x_hamming.shape} \")\n",
    "    for i in range(fn):\n",
    "        matrix_trans = np.zeros(shape=(framesize))        \n",
    "        # how to append an array to the length of the framesize\n",
    "        matrix_trans[:len(speech_data[(i*framestep):(framesize + i*framestep)])] = speech_data[(i*framestep):(framesize + i*framestep)]\n",
    "#         print(f\"matrix shape {matrix_trans.shape}\")\n",
    "        matrix_trans *= x_hamming\n",
    "#         print(f\"matrix*hamming shape {matrix_trans.shape}\")\n",
    "        speech_enframe[:,i] = matrix_trans\n",
    "    return speech_enframe"
   ]
  },
  {
   "cell_type": "code",
   "execution_count": 10,
   "metadata": {},
   "outputs": [],
   "source": [
    "enframed_data = enframing(speech_data, framerate)"
   ]
  },
  {
   "cell_type": "markdown",
   "metadata": {},
   "source": [
    "### short time energy"
   ]
  },
  {
   "cell_type": "code",
   "execution_count": 11,
   "metadata": {},
   "outputs": [],
   "source": [
    "def stenergy(enframed_data):    \n",
    "    return np.sum(enframed_data**2, axis=0)\n",
    "# stenergy = stenergy(enframed_data)\n",
    "# stenergy"
   ]
  },
  {
   "cell_type": "markdown",
   "metadata": {},
   "source": [
    "### read all wav data in saveedata folder"
   ]
  },
  {
   "cell_type": "code",
   "execution_count": 34,
   "metadata": {},
   "outputs": [
    {
     "name": "stdout",
     "output_type": "stream",
     "text": [
      "(480, 476)\n"
     ]
    }
   ],
   "source": [
    "path1 = 'C:\\Python_Project\\SpeechRecognition\\savee_data\\AudioData\\DC'\n",
    "path2 = 'C:\\Python_Project\\SpeechRecognition\\savee_data\\AudioData\\JE'\n",
    "path3 = 'C:\\Python_Project\\SpeechRecognition\\savee_data\\AudioData\\JK'\n",
    "path4 = 'C:\\Python_Project\\SpeechRecognition\\savee_data\\AudioData\\KL'\n",
    "paths = [path1, path2, path3, path4]\n",
    "\n",
    "ste = []\n",
    "class_mark = []\n",
    "for path in paths:\n",
    "    for filename in glob.glob(os.path.join(path, '*.wav')):    \n",
    "        basename = os.path.basename(filename)\n",
    "        class_mark.append(re.split('\\d+', basename)[0])\n",
    "    \n",
    "        sampFreq, speech_data = wavfile.read(filename)    \n",
    "        f = wave.open(filename, 'rb')   \n",
    "        nchannels, sampwidth, framerate, nframes, _, _ = f.getparams()\n",
    "        f.close()   \n",
    "        speech_data = normalization(speech_data)\n",
    "        enframed = enframing(speech_data, framerate)\n",
    "        ste.append(stenergy(enframed))\n",
    "\n",
    "length_ste = []\n",
    "for itemlist in ste: \n",
    "    length_ste.append(len(itemlist))\n",
    "\n",
    "data_savee = np.zeros((len(ste), max(length_ste))) # shape = (file_nums, the number of frames the longest file has)\n",
    "for i in range(len(ste)):    \n",
    "    data_savee[i, :len(ste[i])] = ste[i]\n",
    "    \n",
    "dataset = {}\n",
    "dataset['data'] = data_savee\n",
    "dataset['target'] = class_mark"
   ]
  },
  {
   "cell_type": "markdown",
   "metadata": {},
   "source": [
    "### save dataset to file"
   ]
  },
  {
   "cell_type": "code",
   "execution_count": 13,
   "metadata": {},
   "outputs": [],
   "source": [
    "np.save('dataset_short_time_energy.npy', dataset)"
   ]
  },
  {
   "cell_type": "markdown",
   "metadata": {},
   "source": [
    "### split data in train and test set"
   ]
  },
  {
   "cell_type": "code",
   "execution_count": 149,
   "metadata": {},
   "outputs": [],
   "source": [
    "X_train, X_test, y_train, y_test = train_test_split(dataset['data'], dataset['target'], test_size=0.1, random_state=42)"
   ]
  },
  {
   "cell_type": "markdown",
   "metadata": {},
   "source": [
    "## classification with svm"
   ]
  },
  {
   "cell_type": "code",
   "execution_count": 105,
   "metadata": {},
   "outputs": [],
   "source": [
    "clf = SVC(gamma=0.001, C=100. )\n",
    "clf = clf.fit(X_train, y_train)\n",
    "# how can i access dictionary keys with dot like dataset.data?"
   ]
  },
  {
   "cell_type": "code",
   "execution_count": 106,
   "metadata": {},
   "outputs": [
    {
     "data": {
      "text/plain": [
       "array(['n', 'a', 'f', 'n', 'su', 'n', 'n', 'n', 'a', 'n', 'n', 'n', 'n',\n",
       "       'n', 'n', 'n', 'n', 'n', 'n', 'h', 'n', 'n', 'n', 'n', 'n', 'h',\n",
       "       'n', 'n', 'n', 'n', 'n', 'n', 'n', 'n', 'n', 'n', 'n', 'n', 'f',\n",
       "       'n', 'n', 'n', 'n', 'n', 'n', 'n', 'n', 'n'],\n",
       "      dtype='<U2')"
      ]
     },
     "execution_count": 106,
     "metadata": {},
     "output_type": "execute_result"
    }
   ],
   "source": [
    "predict_result = clf.predict(X_test)\n",
    "predict_result"
   ]
  },
  {
   "cell_type": "code",
   "execution_count": 107,
   "metadata": {},
   "outputs": [],
   "source": [
    "assert len(y_test) == len(predict_result)"
   ]
  },
  {
   "cell_type": "code",
   "execution_count": 108,
   "metadata": {},
   "outputs": [],
   "source": [
    "zip_target = list(zip(predict_result, y_test))"
   ]
  },
  {
   "cell_type": "code",
   "execution_count": 109,
   "metadata": {},
   "outputs": [
    {
     "data": {
      "text/plain": [
       "0.2916666666666667"
      ]
     },
     "execution_count": 109,
     "metadata": {},
     "output_type": "execute_result"
    }
   ],
   "source": [
    "boolean_num = 0\n",
    "for x, y in zip_target: \n",
    "    if x == y:\n",
    "        boolean_num += 1\n",
    "accurate_rate = boolean_num / len(y_test)\n",
    "accurate_rate"
   ]
  },
  {
   "cell_type": "code",
   "execution_count": 129,
   "metadata": {},
   "outputs": [
    {
     "data": {
      "text/plain": [
       "0.29166666666666669"
      ]
     },
     "execution_count": 129,
     "metadata": {},
     "output_type": "execute_result"
    }
   ],
   "source": [
    "score = clf.score(X_test, y_test)\n",
    "score"
   ]
  },
  {
   "cell_type": "code",
   "execution_count": 128,
   "metadata": {},
   "outputs": [
    {
     "name": "stdout",
     "output_type": "stream",
     "text": [
      "Accuracy: 0.292\n"
     ]
    }
   ],
   "source": [
    "from sklearn.metrics import accuracy_score\n",
    "pred = clf.predict(X_test)\n",
    "print(\"Accuracy: {:.3f}\".format(accuracy_score(y_test, pred)))"
   ]
  },
  {
   "cell_type": "code",
   "execution_count": 111,
   "metadata": {},
   "outputs": [
    {
     "data": {
      "text/plain": [
       "0.21875"
      ]
     },
     "execution_count": 111,
     "metadata": {},
     "output_type": "execute_result"
    }
   ],
   "source": [
    "cross_val_score(clf, dataset['data'], dataset['target'], cv=10).mean()"
   ]
  },
  {
   "cell_type": "code",
   "execution_count": 112,
   "metadata": {},
   "outputs": [
    {
     "name": "stdout",
     "output_type": "stream",
     "text": [
      "Confusion matrix:\n",
      "[[ 0  0  0  0  3  0  0]\n",
      " [ 0  0  0  0  6  0  0]\n",
      " [ 0  0  1  0  6  0  1]\n",
      " [ 1  0  0  0  4  0  0]\n",
      " [ 1  0  0  1 13  0  0]\n",
      " [ 0  0  0  0  6  0  0]\n",
      " [ 0  0  1  1  3  0  0]]\n"
     ]
    }
   ],
   "source": [
    "from sklearn.metrics import confusion_matrix\n",
    "confusion = confusion_matrix(y_test, predict_result)\n",
    "print(\"Confusion matrix:\\n{}\".format(confusion))"
   ]
  },
  {
   "cell_type": "code",
   "execution_count": 140,
   "metadata": {},
   "outputs": [
    {
     "name": "stdout",
     "output_type": "stream",
     "text": [
      "             precision    recall  f1-score   support\n",
      "\n",
      "          a       0.00      0.00      0.00         3\n",
      "          d       0.00      0.00      0.00         6\n",
      "          f       0.50      0.12      0.20         8\n",
      "          h       0.00      0.00      0.00         5\n",
      "          n       0.32      0.87      0.46        15\n",
      "         sa       0.00      0.00      0.00         6\n",
      "         su       0.00      0.00      0.00         5\n",
      "\n",
      "avg / total       0.18      0.29      0.18        48\n",
      "\n"
     ]
    },
    {
     "name": "stderr",
     "output_type": "stream",
     "text": [
      "c:\\anaconda3\\envs\\speechrecognition\\lib\\site-packages\\sklearn\\metrics\\classification.py:1135: UndefinedMetricWarning: Precision and F-score are ill-defined and being set to 0.0 in labels with no predicted samples.\n",
      "  'precision', 'predicted', average, warn_for)\n"
     ]
    }
   ],
   "source": [
    "from sklearn.metrics import classification_report\n",
    "print(classification_report(y_test, pred))"
   ]
  },
  {
   "cell_type": "code",
   "execution_count": 142,
   "metadata": {},
   "outputs": [
    {
     "name": "stdout",
     "output_type": "stream",
     "text": [
      "Micro average f1 score: 0.292\n",
      "Macro average f1 score: 0.095\n"
     ]
    },
    {
     "name": "stderr",
     "output_type": "stream",
     "text": [
      "c:\\anaconda3\\envs\\speechrecognition\\lib\\site-packages\\sklearn\\metrics\\classification.py:1135: UndefinedMetricWarning: F-score is ill-defined and being set to 0.0 in labels with no predicted samples.\n",
      "  'precision', 'predicted', average, warn_for)\n"
     ]
    }
   ],
   "source": [
    "from sklearn.metrics import f1_score\n",
    "print(\"Micro average f1 score: {:.3f}\".format(f1_score(y_test, pred, average=\"micro\")))\n",
    "print(\"Macro average f1 score: {:.3f}\".format(f1_score(y_test, pred, average=\"macro\")))"
   ]
  },
  {
   "cell_type": "markdown",
   "metadata": {},
   "source": [
    "### random search and cross validation with svm"
   ]
  },
  {
   "cell_type": "code",
   "execution_count": 143,
   "metadata": {},
   "outputs": [
    {
     "name": "stdout",
     "output_type": "stream",
     "text": [
      "{'C': 30.13853969817405, 'gamma': 0.00030830895285700974}\n",
      "0.282457465016\n"
     ]
    }
   ],
   "source": [
    "best_score = 0\n",
    "ite_num = 50\n",
    "for i in range(ite_num):\n",
    "    gamma = 10 **(-4 + (6 * np.random.rand())) # range from 10**-4 to 10**2\n",
    "    C = 10 **(-4 + (6 * np.random.rand()))\n",
    "    svm = SVC(gamma=gamma, C=C, kernel='rbf')\n",
    "    scores = cross_val_score(svm, X_train, y_train, cv=5)\n",
    "    score =np.mean(scores)\n",
    "    if score > best_score:\n",
    "        best_score = score\n",
    "        best_parameters = {'C': C, 'gamma': gamma}\n",
    "print(best_parameters)\n",
    "svm = SVC(**best_parameters)\n",
    "clf = svm.fit(X_train, y_train)\n",
    "print(best_score)"
   ]
  },
  {
   "cell_type": "code",
   "execution_count": 147,
   "metadata": {},
   "outputs": [
    {
     "name": "stdout",
     "output_type": "stream",
     "text": [
      "             precision    recall  f1-score   support\n",
      "\n",
      "          a       0.00      0.00      0.00         3\n",
      "          d       0.00      0.00      0.00         6\n",
      "          f       0.50      0.12      0.20         8\n",
      "          h       0.00      0.00      0.00         5\n",
      "          n       0.32      0.87      0.46        15\n",
      "         sa       0.00      0.00      0.00         6\n",
      "         su       0.00      0.00      0.00         5\n",
      "\n",
      "avg / total       0.18      0.29      0.18        48\n",
      "\n"
     ]
    },
    {
     "name": "stderr",
     "output_type": "stream",
     "text": [
      "c:\\anaconda3\\envs\\speechrecognition\\lib\\site-packages\\sklearn\\metrics\\classification.py:1135: UndefinedMetricWarning: Precision and F-score are ill-defined and being set to 0.0 in labels with no predicted samples.\n",
      "  'precision', 'predicted', average, warn_for)\n"
     ]
    }
   ],
   "source": [
    "pred = clf.predict(X_test)\n",
    "print(classification_report(y_test, pred))"
   ]
  },
  {
   "cell_type": "markdown",
   "metadata": {},
   "source": [
    "### classification with decision tree"
   ]
  },
  {
   "cell_type": "code",
   "execution_count": 59,
   "metadata": {},
   "outputs": [],
   "source": [
    "from sklearn.tree import DecisionTreeClassifier"
   ]
  },
  {
   "cell_type": "code",
   "execution_count": 60,
   "metadata": {},
   "outputs": [],
   "source": [
    "tree = DecisionTreeClassifier(max_depth=4, random_state=0)\n",
    "tree = tree.fit(X_train, y_train)"
   ]
  },
  {
   "cell_type": "code",
   "execution_count": 61,
   "metadata": {},
   "outputs": [
    {
     "data": {
      "text/plain": [
       "0.44907407407407407"
      ]
     },
     "execution_count": 61,
     "metadata": {},
     "output_type": "execute_result"
    }
   ],
   "source": [
    "tree.score(X_train, y_train)"
   ]
  },
  {
   "cell_type": "code",
   "execution_count": 62,
   "metadata": {},
   "outputs": [
    {
     "data": {
      "text/plain": [
       "0.3125"
      ]
     },
     "execution_count": 62,
     "metadata": {},
     "output_type": "execute_result"
    }
   ],
   "source": [
    "tree.score(X_test, y_test) # decision tree has a problem with overfitting"
   ]
  },
  {
   "cell_type": "code",
   "execution_count": 76,
   "metadata": {},
   "outputs": [
    {
     "data": {
      "text/plain": [
       "0.30625000000000002"
      ]
     },
     "execution_count": 76,
     "metadata": {},
     "output_type": "execute_result"
    }
   ],
   "source": [
    "cross_val_score(tree, dataset['data'], dataset['target'], cv=10).mean()"
   ]
  },
  {
   "cell_type": "markdown",
   "metadata": {},
   "source": [
    "### classification with random forest"
   ]
  },
  {
   "cell_type": "code",
   "execution_count": 63,
   "metadata": {},
   "outputs": [],
   "source": [
    "from sklearn.ensemble import RandomForestClassifier\n",
    "random_forest = RandomForestClassifier(n_estimators=92, random_state=2)\n",
    "random_forest = random_forest.fit(X_train, y_train)"
   ]
  },
  {
   "cell_type": "code",
   "execution_count": 64,
   "metadata": {},
   "outputs": [
    {
     "data": {
      "text/plain": [
       "array(['n', 'd', 'a', 'sa', 'd', 'h', 'sa', 'n', 'n', 'n', 'h', 'h', 'n',\n",
       "       'a', 'su', 'sa', 'sa', 'n', 'a', 'n', 'n', 'n', 'n', 'a', 'sa', 'a',\n",
       "       'f', 'n', 'd', 'd', 'h', 'h', 'n', 'sa', 'sa', 'd', 'h', 'su', 'a',\n",
       "       'n', 'd', 'n', 'd', 'sa', 'a', 'n', 'sa', 'n'],\n",
       "      dtype='<U2')"
      ]
     },
     "execution_count": 64,
     "metadata": {},
     "output_type": "execute_result"
    }
   ],
   "source": [
    "random_forest.predict(X_test)"
   ]
  },
  {
   "cell_type": "code",
   "execution_count": 65,
   "metadata": {},
   "outputs": [
    {
     "data": {
      "text/plain": [
       "0.35416666666666669"
      ]
     },
     "execution_count": 65,
     "metadata": {},
     "output_type": "execute_result"
    }
   ],
   "source": [
    "random_forest.score(X_test, y_test)"
   ]
  },
  {
   "cell_type": "code",
   "execution_count": 74,
   "metadata": {},
   "outputs": [
    {
     "data": {
      "text/plain": [
       "0.34166666666666667"
      ]
     },
     "execution_count": 74,
     "metadata": {},
     "output_type": "execute_result"
    }
   ],
   "source": [
    "cross_val_score(random_forest, dataset['data'], dataset['target'], cv=10).mean()"
   ]
  },
  {
   "cell_type": "markdown",
   "metadata": {},
   "source": [
    "### classification with KNN"
   ]
  },
  {
   "cell_type": "code",
   "execution_count": 66,
   "metadata": {},
   "outputs": [],
   "source": [
    "from sklearn.neighbors import KNeighborsClassifier\n",
    "from sklearn.model_selection import cross_val_score"
   ]
  },
  {
   "cell_type": "code",
   "execution_count": 67,
   "metadata": {},
   "outputs": [],
   "source": [
    "knn = KNeighborsClassifier(n_neighbors=1)\n",
    "knn = knn.fit(X_train, y_train)"
   ]
  },
  {
   "cell_type": "code",
   "execution_count": 68,
   "metadata": {},
   "outputs": [
    {
     "data": {
      "text/plain": [
       "0.35416666666666669"
      ]
     },
     "execution_count": 68,
     "metadata": {},
     "output_type": "execute_result"
    }
   ],
   "source": [
    "knn.predict(X_test)\n",
    "knn.score(X_test, y_test)"
   ]
  },
  {
   "cell_type": "code",
   "execution_count": 79,
   "metadata": {},
   "outputs": [
    {
     "data": {
      "text/plain": [
       "0.33333333333333331"
      ]
     },
     "execution_count": 79,
     "metadata": {},
     "output_type": "execute_result"
    }
   ],
   "source": [
    "cross_val_score(knn, dataset['data'], dataset['target'], cv=10).mean()"
   ]
  },
  {
   "cell_type": "code",
   "execution_count": 3,
   "metadata": {},
   "outputs": [
    {
     "name": "stderr",
     "output_type": "stream",
     "text": [
      "c:\\anaconda3\\envs\\speechrecognition\\lib\\site-packages\\matplotlib\\pyplot.py:2669: MatplotlibDeprecationWarning: The *bottom* kwarg to `barh` is deprecated use *y* instead. Support for *bottom* will be removed in Matplotlib 3.0\n",
      "  ret = ax.barh(*args, **kwargs)\n"
     ]
    },
    {
     "data": {
      "image/png": "[encoded data removed]",
      "text/plain": [
       "<matplotlib.figure.Figure at 0x2b6c2c4fc50>"
      ]
     },
     "metadata": {},
     "output_type": "display_data"
    }
   ],
   "source": [
    "mglearn.plots.plot_cross_validation()"
   ]
  },
  {
   "cell_type": "code",
   "execution_count": 4,
   "metadata": {},
   "outputs": [],
   "source": [
    "import sys"
   ]
  },
  {
   "cell_type": "code",
   "execution_count": 6,
   "metadata": {},
   "outputs": [
    {
     "data": {
      "text/plain": [
       "'3.6.2 |Continuum Analytics, Inc.| (default, Jul 20 2017, 12:30:02) [MSC v.1900 64 bit (AMD64)]'"
      ]
     },
     "execution_count": 6,
     "metadata": {},
     "output_type": "execute_result"
    }
   ],
   "source": [
    "sys.version"
   ]
  },
  {
   "cell_type": "code",
   "execution_count": null,
   "metadata": {},
   "outputs": [],
   "source": []
  }
 ],
 "metadata": {
  "kernelspec": {
   "display_name": "Python 3",
   "language": "python",
   "name": "python3"
  },
  "language_info": {
   "codemirror_mode": {
    "name": "ipython",
    "version": 3
   },
   "file_extension": ".py",
   "mimetype": "text/x-python",
   "name": "python",
   "nbconvert_exporter": "python",
   "pygments_lexer": "ipython3",
   "version": "3.6.2"
  }
 },
 "nbformat": 4,
 "nbformat_minor": 2
}
