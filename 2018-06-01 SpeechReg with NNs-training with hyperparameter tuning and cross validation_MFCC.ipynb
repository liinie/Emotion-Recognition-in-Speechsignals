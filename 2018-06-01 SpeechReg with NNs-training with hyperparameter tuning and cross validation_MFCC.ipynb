{
 "cells": [
  {
   "cell_type": "code",
   "execution_count": 54,
   "metadata": {},
   "outputs": [],
   "source": [
    "import numpy as np\n",
    "import csv\n",
    "import pandas as pd\n",
    "import matplotlib.pyplot as plt\n",
    "import math\n",
    "import random\n",
    "from sklearn.metrics import classification_report\n",
    "from tqdm import tnrange, tqdm_notebook\n",
    "from time import sleep"
   ]
  },
  {
   "cell_type": "markdown",
   "metadata": {},
   "source": [
    "## Data Preprocessing"
   ]
  },
  {
   "cell_type": "markdown",
   "metadata": {},
   "source": [
    "### real data"
   ]
  },
  {
   "cell_type": "code",
   "execution_count": 56,
   "metadata": {},
   "outputs": [
    {
     "name": "stdout",
     "output_type": "stream",
     "text": [
      "(8556, 480)\n",
      "(480,)\n"
     ]
    }
   ],
   "source": [
    "dataset = np.load('dataset_MFCC.npy').item()\n",
    "X = dataset['data'].T # shape = (frames, datasample numbers)\n",
    "print(X.shape)\n",
    "m = X.shape[1] # numbers of datasamples\n",
    "Y = np.array(dataset['target'])\n",
    "print(Y.shape)\n",
    "C = len(set(Y)) # number of classes\n",
    "Y_origin = pd.factorize(Y)[0].astype(np.uint16)"
   ]
  },
  {
   "cell_type": "code",
   "execution_count": 57,
   "metadata": {},
   "outputs": [],
   "source": [
    "def one_hot_converter(Y, C):\n",
    "    d = np.eye(C)[Y.reshape(-1)].T\n",
    "    return d"
   ]
  },
  {
   "cell_type": "code",
   "execution_count": 58,
   "metadata": {
    "scrolled": true
   },
   "outputs": [
    {
     "data": {
      "text/plain": [
       "(7, 480)"
      ]
     },
     "execution_count": 58,
     "metadata": {},
     "output_type": "execute_result"
    }
   ],
   "source": [
    "Y = one_hot_converter(Y_origin, C)\n",
    "Y.shape"
   ]
  },
  {
   "cell_type": "markdown",
   "metadata": {},
   "source": [
    "### randomize X and Y"
   ]
  },
  {
   "cell_type": "code",
   "execution_count": 59,
   "metadata": {},
   "outputs": [],
   "source": [
    "np.random.seed(0)\n",
    "permutation = list(np.random.permutation(m))\n",
    "shuffled_X = X[:, permutation]\n",
    "shuffled_Y = Y[:, permutation].reshape((C, m))"
   ]
  },
  {
   "cell_type": "markdown",
   "metadata": {},
   "source": [
    "### separate the data to training and test set"
   ]
  },
  {
   "cell_type": "code",
   "execution_count": 60,
   "metadata": {},
   "outputs": [],
   "source": [
    "X_train = shuffled_X[:, :-20]\n",
    "X_test = shuffled_X[:, -20:]\n",
    "Y_train = shuffled_Y[:, :-20]\n",
    "Y_test = shuffled_Y[:, -20:]\n",
    "assert X_train.shape[1] == Y_train.shape[1], \"train set shape error\"\n",
    "assert X_test.shape[1] == Y_test.shape[1], \"test set shape error\""
   ]
  },
  {
   "cell_type": "markdown",
   "metadata": {},
   "source": [
    "### without shuffle"
   ]
  },
  {
   "cell_type": "code",
   "execution_count": null,
   "metadata": {},
   "outputs": [],
   "source": [
    "# X_train = X[:, :-20]\n",
    "# X_test = X[:, -20:]\n",
    "# Y_train = Y[:, :-20]\n",
    "# Y_test = Y[:, -20:]\n",
    "# assert X_train.shape[1] == Y_train.shape[1], \"train set shape error\"\n",
    "# assert X_test.shape[1] == Y_test.shape[1], \"test set shape error\""
   ]
  },
  {
   "cell_type": "markdown",
   "metadata": {},
   "source": [
    "### toy data"
   ]
  },
  {
   "cell_type": "code",
   "execution_count": null,
   "metadata": {},
   "outputs": [],
   "source": [
    "# X = np.array([[1, 2, 3], [4, 5, 6], [7, 8, 9]])\n",
    "# Y = np.array([[0, 1, 0], [1, 0, 1]])       \n",
    "# layers_dims = [3, 4, 2]"
   ]
  },
  {
   "cell_type": "markdown",
   "metadata": {},
   "source": [
    "## Neural Network"
   ]
  },
  {
   "cell_type": "markdown",
   "metadata": {},
   "source": [
    "### Hyper parameter tuning"
   ]
  },
  {
   "cell_type": "code",
   "execution_count": 12,
   "metadata": {},
   "outputs": [],
   "source": [
    "parameter_choices = {'hidden_size':[40, 60, 80, 100], 'learning_rate':[7.5e-3, 1e-3, 5e-2]}"
   ]
  },
  {
   "cell_type": "code",
   "execution_count": 13,
   "metadata": {},
   "outputs": [],
   "source": [
    "def random_parameter_selection():\n",
    "    return {k:random.choice(v) for k, v in parameter_choices.items()}"
   ]
  },
  {
   "cell_type": "code",
   "execution_count": 14,
   "metadata": {},
   "outputs": [
    {
     "data": {
      "text/plain": [
       "int"
      ]
     },
     "execution_count": 14,
     "metadata": {},
     "output_type": "execute_result"
    }
   ],
   "source": [
    "params = random_parameter_selection()\n",
    "type(params['hidden_size'])"
   ]
  },
  {
   "cell_type": "code",
   "execution_count": 15,
   "metadata": {},
   "outputs": [
    {
     "data": {
      "text/plain": [
       "[8556, 40, 7]"
      ]
     },
     "execution_count": 15,
     "metadata": {},
     "output_type": "execute_result"
    }
   ],
   "source": [
    "layers_dims = [X.shape[0], params['hidden_size'], 7] # in this experiment, we always keep one hidden layer\n",
    "layers_dims"
   ]
  },
  {
   "cell_type": "markdown",
   "metadata": {},
   "source": [
    "### initialization"
   ]
  },
  {
   "cell_type": "code",
   "execution_count": 16,
   "metadata": {},
   "outputs": [],
   "source": [
    "def initialization(layers_dims):\n",
    "    parameters = {}\n",
    "    L = len(layers_dims)\n",
    "    for l in range(1, L):\n",
    "        parameters[\"W\" + str(l)] = np.random.randn(layers_dims[l], layers_dims[l-1])*(10**(-2))\n",
    "        parameters[\"b\" + str(l)] = np.zeros((layers_dims[l], 1))\n",
    "    return parameters"
   ]
  },
  {
   "cell_type": "code",
   "execution_count": 72,
   "metadata": {},
   "outputs": [],
   "source": [
    "def he_initialization(layers_dims):\n",
    "    parameters = {}\n",
    "    L = len(layers_dims) - 1 # integer representing the number of layers\n",
    "     \n",
    "    for l in range(1, L + 1):        \n",
    "        parameters['W' + str(l)] = np.random.randn(layers_dims[l], layers_dims[l-1])*(np.sqrt(2./layers_dims[l-1]))\n",
    "        parameters['b' + str(l)] = np.zeros((layers_dims[l], 1))\n",
    "    return parameters"
   ]
  },
  {
   "cell_type": "code",
   "execution_count": null,
   "metadata": {
    "scrolled": true
   },
   "outputs": [],
   "source": [
    "# parameters = initialization(layers_dims)\n",
    "# print(f'shape of W1: {parameters[\"W1\"].shape}')\n",
    "# print(f'shape of W2: {parameters[\"W2\"].shape}')\n",
    "# print(f'shape of b1: {parameters[\"b1\"].shape}')\n",
    "# print(f'shape of b2: {parameters[\"b2\"].shape}')"
   ]
  },
  {
   "cell_type": "markdown",
   "metadata": {},
   "source": [
    "### forward propagation"
   ]
  },
  {
   "cell_type": "code",
   "execution_count": 17,
   "metadata": {},
   "outputs": [],
   "source": [
    "def linear_forward(X, W, b):\n",
    "    Z = np.dot(W, X) + b\n",
    "    cache = (X, W, b)\n",
    "    return Z, cache"
   ]
  },
  {
   "cell_type": "code",
   "execution_count": null,
   "metadata": {
    "scrolled": true
   },
   "outputs": [],
   "source": [
    "# Z1, cache = linear_forward(X, parameters[\"W1\"], parameters[\"b1\"])\n",
    "# dataframe0 = pd.DataFrame(Z1)\n",
    "# print(dataframe0)\n",
    "# print(np.isnan(Z1).any()) # check if there is any nan number in Z1"
   ]
  },
  {
   "cell_type": "code",
   "execution_count": 18,
   "metadata": {},
   "outputs": [],
   "source": [
    "def relu(Z):\n",
    "    A = np.maximum(0, Z)\n",
    "    activation_cache = Z\n",
    "    return A, activation_cache"
   ]
  },
  {
   "cell_type": "code",
   "execution_count": 19,
   "metadata": {},
   "outputs": [],
   "source": [
    "def sigmoid(Z):\n",
    "    A = 1 / (np.exp(-1 * Z))\n",
    "    activation_cache = Z\n",
    "    return A, activation_cache"
   ]
  },
  {
   "cell_type": "code",
   "execution_count": 20,
   "metadata": {},
   "outputs": [],
   "source": [
    "def softmax(Z):\n",
    "#     Z = (Z - np.average(Z))/np.max(Z) \n",
    "    Z = Z - np.max(Z, axis=0, keepdims=True)\n",
    "    A = np.exp(Z)/np.sum(np.exp(Z), axis=0, keepdims=True)\n",
    "    activation_cache = Z\n",
    "    return A, activation_cache"
   ]
  },
  {
   "cell_type": "code",
   "execution_count": 21,
   "metadata": {},
   "outputs": [],
   "source": [
    "def linear_activation_forward(X, W, b, activation):\n",
    "    Z, cache = linear_forward(X, W, b)\n",
    "#     print(f\"the new Z is {Z- np.max(Z)}\")\n",
    "    if activation == \"relu\":\n",
    "        A, activation_cache = relu(Z)\n",
    "        cache = (cache, activation_cache)\n",
    "    if activation == \"sigmoid\":\n",
    "        A, activation_cache = sigmoid(Z)\n",
    "        cache = (cache, activation_cache)\n",
    "    if activation == \"softmax\":\n",
    "        A, activation_cache = softmax(Z)\n",
    "        cache = (cache, activation_cache)\n",
    "    return A, cache"
   ]
  },
  {
   "cell_type": "code",
   "execution_count": null,
   "metadata": {
    "scrolled": false
   },
   "outputs": [],
   "source": [
    "# A1, cache1 = linear_activation_forward(X, parameters[\"W1\"], parameters[\"b1\"], activation='relu')\n",
    "# dataframe1 = pd.DataFrame(A1)\n",
    "# print(dataframe1)\n",
    "# print(np.isnan(A1).any())\n",
    "# print(f\"A1 is {A1}\")\n",
    "# print(f\"X is {cache1[0][0]}\")\n",
    "# print(f\"W1 is {cache1[0][1]}\")\n",
    "# print(f\"b1 is {cache1[0][2]}\")\n",
    "# print(f\"Z1 is {cache1[1]}\")\n",
    "# A2, cache2 = linear_activation_forward(A1, parameters[\"W2\"], parameters[\"b2\"], activation='softmax')\n",
    "# dataframe2 = pd.DataFrame(A2)\n",
    "# print(dataframe2)\n",
    "# print(np.isnan(A2).any())\n",
    "# print(np.where(np.isnan(A2)))\n",
    "# print(f\"A2 is{A2}\")\n",
    "# print(f\"A1 is {cache2[0][0]}\")\n",
    "# print(f\"W2 is {cache2[0][1]}\")\n",
    "# print(f\"b2 is {cache2[0][2]}\")\n",
    "# print(f\"Z2 is {cache2[1]}\")"
   ]
  },
  {
   "cell_type": "code",
   "execution_count": 22,
   "metadata": {},
   "outputs": [],
   "source": [
    "def forward_prop(X, parameters):\n",
    "    L = len(parameters)//2\n",
    "    A = X\n",
    "    caches = []\n",
    "    for l in range(1, L):\n",
    "        A_prev = A\n",
    "        A, cache = linear_activation_forward(A_prev, parameters[\"W\" + str(l)], parameters[\"b\" +str(l)], activation=\"relu\")\n",
    "        caches.append(cache)\n",
    "    AL, cache = linear_activation_forward(A, parameters[\"W\" + str(L)], parameters[\"b\" +str(L)], activation=\"softmax\")\n",
    "    caches.append(cache)\n",
    "    return AL, caches"
   ]
  },
  {
   "cell_type": "code",
   "execution_count": null,
   "metadata": {},
   "outputs": [],
   "source": [
    "# AL, caches = forward_prop(X, parameters)\n",
    "# dataframeL = pd.DataFrame(AL)\n",
    "# print(dataframeL)\n",
    "# print(np.isnan(AL).any())\n",
    "# print(f'A2 is {AL}')\n",
    "# print(f'X is {caches[0][0][0]}')\n",
    "# print(f'W1 is {caches[0][0][1]}')\n",
    "# print(f\"b1 is {caches[0][0][2]}\")\n",
    "# print(f\"Z1 is {caches[0][1]}\")\n",
    "\n",
    "# print(f\"A1 is {caches[1][0][0]}\")\n",
    "# print(f\"W2 is {caches[1][0][1]}\")\n",
    "# print(f\"b2 is {caches[1][0][2]}\")\n",
    "# print(f\"Z2 is {caches[1][1]}\")"
   ]
  },
  {
   "cell_type": "markdown",
   "metadata": {},
   "source": [
    "### cost"
   ]
  },
  {
   "cell_type": "code",
   "execution_count": 23,
   "metadata": {},
   "outputs": [],
   "source": [
    "def compute_cost(AL, Y):\n",
    "    m = Y.shape[1]\n",
    "    cost = (-1/m)*np.sum(Y*np.log(AL))\n",
    "    \n",
    "    cost = np.squeeze(cost)      # To make sure your cost's shape is what we expect (e.g. this turns [[17]] into 17).\n",
    "    assert(cost.shape == ())\n",
    "    \n",
    "    return cost"
   ]
  },
  {
   "cell_type": "code",
   "execution_count": null,
   "metadata": {},
   "outputs": [],
   "source": [
    "# compute_cost(AL, Y)"
   ]
  },
  {
   "cell_type": "markdown",
   "metadata": {},
   "source": [
    "### back propagation"
   ]
  },
  {
   "cell_type": "code",
   "execution_count": 24,
   "metadata": {},
   "outputs": [],
   "source": [
    "def linear_backwards(dZ, cache):\n",
    "    A_prev, W, b = cache\n",
    "    m = A_prev.shape[1]\n",
    "  \n",
    "     \n",
    "    dW = 1/m * np.dot(dZ,A_prev.T)\n",
    "    db = 1/m * np.sum(dZ,axis=1,keepdims=True)\n",
    "    dA_prev = np.dot(W.T,dZ)\n",
    "   \n",
    "\n",
    "    assert (dA_prev.shape == A_prev.shape)\n",
    "    assert (dW.shape == W.shape)\n",
    "    assert (db.shape == b.shape)\n",
    "    return dA_prev, dW, db"
   ]
  },
  {
   "cell_type": "code",
   "execution_count": null,
   "metadata": {
    "scrolled": true
   },
   "outputs": [],
   "source": [
    "# dZ2 = A2 - Y\n",
    "# grads = {}\n",
    "# dA2, dW2, db2 = linear_backwards(dZ2, cache2[0])\n",
    "# # print(f'dZ2 is {dZ2}')\n",
    "# # print(f'dA2 is {dA2}')\n",
    "# # print(f'dW2 is {dW2}')\n",
    "# # print(f'db2 is {db2}')\n",
    "\n",
    "# grads['dA2'] = dA2\n",
    "# grads['dW2'] = dW2\n",
    "# grads['db2'] = db2\n"
   ]
  },
  {
   "cell_type": "code",
   "execution_count": 25,
   "metadata": {},
   "outputs": [],
   "source": [
    "def relu_backward(dA, cache):    \n",
    "    Z = cache\n",
    "    dZ = np.array(dA, copy=True)\n",
    " \n",
    "    dZ[Z <= 0] = 0\n",
    "\n",
    "    assert (dZ.shape == Z.shape)\n",
    "\n",
    "    return dZ"
   ]
  },
  {
   "cell_type": "code",
   "execution_count": null,
   "metadata": {},
   "outputs": [],
   "source": [
    "# dZ1 = relu_backward(dA2, cache1[1])\n",
    "# dZ1 \n",
    "\n",
    "# dA1, dW1, db1 = linear_backwards(dZ1, cache1[0])\n",
    "\n",
    "# # print(f'dZ1 is {dZ1}')\n",
    "# # print(f'dA1 is {dA1}')\n",
    "# # print(f'dW1 is {dW1}')\n",
    "# # print(f'db1 is {db1}')\n",
    "\n",
    "# grads['dA1'] = dA1\n",
    "# grads['dW1'] = dW1\n",
    "# grads['db1'] = db1"
   ]
  },
  {
   "cell_type": "code",
   "execution_count": 26,
   "metadata": {},
   "outputs": [],
   "source": [
    "def linear_activation_backward(dA, cache, activation):\n",
    "    linear_cache, activation_cache = cache\n",
    "    \n",
    "    if activation == \"relu\":\n",
    "        \n",
    "        dZ = relu_backward(dA, activation_cache)\n",
    "       \n",
    "        \n",
    "    elif activation == \"sigmoid\":\n",
    "        \n",
    "        dZ = sigmoid_backward(dA, activation_cache)\n",
    "     \n",
    "    \n",
    "    # Shorten the code\n",
    "    dA_prev, dW, db = linear_backwards(dZ, linear_cache)\n",
    "    \n",
    "    return dA_prev, dW, db"
   ]
  },
  {
   "cell_type": "code",
   "execution_count": 27,
   "metadata": {},
   "outputs": [],
   "source": [
    "def back_prop(AL, Y, cache):\n",
    "    grads = {}\n",
    "    L = len(cache)\n",
    "#     print(L)\n",
    "    m = Y.shape[1]\n",
    "    current_cache = cache[-1]\n",
    "    dZL = AL - Y #gradient back to the layer before softmax\n",
    "    grads[\"dA\" + str(L)], grads[\"dW\" + str(L)], grads[\"db\" + str(L)] = linear_backwards(dZL, current_cache[0]) #gradient of the last linear layer\n",
    "    \n",
    "    for l in reversed(range(L-1)):\n",
    "        current_cache = cache[l]\n",
    "        dA_prev_temp, dW_temp, db_temp = linear_activation_backward(grads[\"dA\" +str(L)], current_cache, 'relu')\n",
    "        grads[\"dA\" + str(l + 1)] = dA_prev_temp\n",
    "        grads[\"dW\" + str(l + 1)] = dW_temp\n",
    "        grads[\"db\" + str(l + 1)] = db_temp\n",
    "\n",
    "    return grads"
   ]
  },
  {
   "cell_type": "code",
   "execution_count": null,
   "metadata": {},
   "outputs": [],
   "source": [
    "# grads = back_prop(AL, Y, caches)\n",
    "# grads['db1'].shape"
   ]
  },
  {
   "cell_type": "markdown",
   "metadata": {},
   "source": [
    "### update parameters"
   ]
  },
  {
   "cell_type": "code",
   "execution_count": 28,
   "metadata": {},
   "outputs": [],
   "source": [
    "def update_parameters(parameters, grads, learning_rate):\n",
    "    L = len(parameters) // 2 \n",
    "#     print(parameters['b1'].shape)\n",
    "#     print(grads['db1'].shape)\n",
    "    for l in range(L):\n",
    "        parameters[\"W\" + str(l + 1)] = parameters[\"W\" + str(l + 1)] - learning_rate * grads[\"dW\" + str(l + 1)]\n",
    "        parameters[\"b\" + str(l + 1)] = parameters[\"b\" + str(l + 1)] - learning_rate * grads[\"db\" + str(l + 1)]\n",
    "        \n",
    "    return parameters"
   ]
  },
  {
   "cell_type": "code",
   "execution_count": null,
   "metadata": {},
   "outputs": [],
   "source": [
    "# parameters = update_parameters(initialization(layers_dims) , grads, 0.0075)\n",
    "# parameters[\"b1\"]"
   ]
  },
  {
   "cell_type": "markdown",
   "metadata": {},
   "source": [
    "### two layer model"
   ]
  },
  {
   "cell_type": "code",
   "execution_count": null,
   "metadata": {},
   "outputs": [],
   "source": [
    "# def two_layer_model(X, Y, layers_dims, learning_rate=0.0075, num_iterations=3000, print_cost=False):\n",
    "#     costs = []\n",
    "#     grads = {}\n",
    "#     parameters = initialization(layers_dims)\n",
    "# #     print(parameters)\n",
    "#     W1 = parameters[\"W1\"]\n",
    "#     b1 = parameters[\"b1\"]\n",
    "#     W2 = parameters[\"W2\"]\n",
    "#     b2 = parameters[\"b2\"]\n",
    "    \n",
    "#     for i in range(num_iterations):\n",
    "        \n",
    "#         A1, cache1 = linear_activation_forward(X, W1, b1, activation=\"relu\")\n",
    "#         A2, cache2 = linear_activation_forward(A1, W2, b2, \"softmax\")\n",
    "        \n",
    "# #         print(cache1)\n",
    "        \n",
    "#         cost = compute_cost(A2, Y)\n",
    "        \n",
    "#         dZL = A2 - Y\n",
    "#         dA2, dW2, db2 = linear_backwards(dZL, cache2[0])\n",
    "#         dA1, dW1, db1 = linear_activation_backward(dA2, cache1, 'relu')\n",
    "        \n",
    "#         grads['dW1'] = dW1\n",
    "#         grads['db1'] = db1\n",
    "#         grads['dW2'] = dW2\n",
    "#         grads['db2'] = db2\n",
    "        \n",
    "#         parameters = update_parameters(parameters, grads, learning_rate)\n",
    "# #         print(parameters)\n",
    "#         W1 = parameters[\"W1\"]\n",
    "#         b1 = parameters[\"b1\"]\n",
    "#         W2 = parameters[\"W2\"]\n",
    "#         b2 = parameters[\"b2\"]\n",
    "        \n",
    "#         if print_cost and i % 100 == 0:\n",
    "#             print(\"Cost after iteration {}: {}\".format(i, np.squeeze(cost)))\n",
    "#         if print_cost and i % 100 == 0:\n",
    "#             costs.append(cost)\n",
    "       \n",
    "#     # plot the cost\n",
    "\n",
    "#     plt.plot(np.squeeze(costs))\n",
    "#     plt.ylabel('cost')\n",
    "#     plt.xlabel('iterations (per tens)')\n",
    "#     plt.title(\"Learning rate =\" + str(learning_rate))\n",
    "#     plt.show()\n",
    "    \n",
    "#     return parameters"
   ]
  },
  {
   "cell_type": "code",
   "execution_count": null,
   "metadata": {},
   "outputs": [],
   "source": [
    "# parameters = two_layer_model(X, Y, layers_dims, learning_rate=0.0075, num_iterations=3000, print_cost=True)"
   ]
  },
  {
   "cell_type": "code",
   "execution_count": null,
   "metadata": {},
   "outputs": [],
   "source": [
    "# parameters = initialization(layers_dims)\n",
    "# W1 = parameters[\"W1\"]\n",
    "# b1 = parameters[\"b1\"]\n",
    "# W2 = parameters[\"W2\"]\n",
    "# b2 = parameters[\"b2\"]\n",
    "# for i in range(20):\n",
    "#     A1, cache1 = linear_activation_forward(X, W1, b1, \"relu\")\n",
    "#     print(A1)"
   ]
  },
  {
   "cell_type": "code",
   "execution_count": 73,
   "metadata": {},
   "outputs": [],
   "source": [
    "def L_layer_model(X, Y, layers_dims, learning_rate=0.0075, num_iterations=3000, print_cost=False): #lr was 0.009\n",
    "    np.random.seed(1)\n",
    "    costs = []                      \n",
    "    \n",
    "#     parameters = initialization(layers_dims)\n",
    "    parameters = he_initialization(layers_dims)\n",
    "    \n",
    "    for i in range(0, num_iterations):\n",
    "        \n",
    "        AL, caches = forward_prop(X, parameters)     \n",
    "        cost = compute_cost(AL, Y)       \n",
    "            \n",
    "        grads = back_prop(AL, Y, caches)\n",
    "        \n",
    "        parameters = update_parameters(parameters, grads, learning_rate)\n",
    "        \n",
    "        if print_cost and i % 100 == 0:\n",
    "            print (\"Cost after iteration %i: %f\" % (i, cost))\n",
    "        if print_cost and i % 100 == 0:\n",
    "            costs.append(cost)\n",
    "            \n",
    "    if print_cost:\n",
    "        plt.plot(np.squeeze(costs), \"o\")\n",
    "        plt.ylabel('cost')\n",
    "        plt.xlabel('iterations (per tens)')\n",
    "        plt.title(\"Learning rate =\" + str(learning_rate))\n",
    "        plt.show()\n",
    "    \n",
    "    return parameters"
   ]
  },
  {
   "cell_type": "code",
   "execution_count": 61,
   "metadata": {},
   "outputs": [
    {
     "name": "stdout",
     "output_type": "stream",
     "text": [
      "Cost after iteration 0: 2.753644\n"
     ]
    },
    {
     "name": "stderr",
     "output_type": "stream",
     "text": [
      "c:\\anaconda3\\envs\\speechrecognition\\lib\\site-packages\\ipykernel_launcher.py:3: RuntimeWarning: divide by zero encountered in log\n",
      "  This is separate from the ipykernel package so we can avoid doing imports until\n",
      "c:\\anaconda3\\envs\\speechrecognition\\lib\\site-packages\\ipykernel_launcher.py:3: RuntimeWarning: invalid value encountered in multiply\n",
      "  This is separate from the ipykernel package so we can avoid doing imports until\n"
     ]
    },
    {
     "name": "stdout",
     "output_type": "stream",
     "text": [
      "Cost after iteration 100: 1.916760\n",
      "Cost after iteration 200: 1.911248\n",
      "Cost after iteration 300: 1.910514\n",
      "Cost after iteration 400: 1.910424\n",
      "Cost after iteration 500: 1.910413\n",
      "Cost after iteration 600: 1.910412\n",
      "Cost after iteration 700: 1.910412\n",
      "Cost after iteration 800: 1.910412\n",
      "Cost after iteration 900: 1.910412\n",
      "Cost after iteration 1000: 1.910412\n",
      "Cost after iteration 1100: 1.910412\n",
      "Cost after iteration 1200: 1.910412\n",
      "Cost after iteration 1300: 1.910412\n",
      "Cost after iteration 1400: 1.910412\n",
      "Cost after iteration 1500: 1.910412\n",
      "Cost after iteration 1600: 1.910412\n",
      "Cost after iteration 1700: 1.910412\n",
      "Cost after iteration 1800: 1.910412\n",
      "Cost after iteration 1900: 1.910412\n",
      "Cost after iteration 2000: 1.910412\n",
      "Cost after iteration 2100: 1.910412\n",
      "Cost after iteration 2200: 1.910412\n",
      "Cost after iteration 2300: 1.910412\n",
      "Cost after iteration 2400: 1.910412\n",
      "Cost after iteration 2500: 1.910412\n",
      "Cost after iteration 2600: 1.910412\n",
      "Cost after iteration 2700: 1.910412\n",
      "Cost after iteration 2800: 1.910412\n",
      "Cost after iteration 2900: 1.910412\n"
     ]
    },
    {
     "data": {
      "image/png": "[encoded data removed]",
      "text/plain": [
       "<matplotlib.figure.Figure at 0x1c64d4ae390>"
      ]
     },
     "metadata": {},
     "output_type": "display_data"
    }
   ],
   "source": [
    " parameters = L_layer_model(X_train, Y_train, layers_dims, learning_rate=params['learning_rate'], num_iterations=3000, print_cost=True)"
   ]
  },
  {
   "cell_type": "code",
   "execution_count": 66,
   "metadata": {},
   "outputs": [],
   "source": [
    "def predict(parameters, X):\n",
    "    AL, caches = forward_prop(X, parameters)\n",
    "    prediction = np.argmax(AL, axis=0)\n",
    "    return prediction"
   ]
  },
  {
   "cell_type": "code",
   "execution_count": 67,
   "metadata": {},
   "outputs": [
    {
     "name": "stdout",
     "output_type": "stream",
     "text": [
      "[4 4 4 4 4 4 4 4 4 4 4 4 4 4 4 4 4 4 4 4 4 4 4 4 4 4 4 4 4 4 4 4 4 4 4 4 4\n",
      " 4 4 4 4 4 4 4 4 4 4 4 4 4 4 4 4 4 4 4 4 4 4 4 4 4 4 4 4 4 4 4 4 4 4 4 4 4\n",
      " 4 4 4 4 4 4 4 4 4 4 4 4 4 4 4 4 4 4 4 4 4 4 4 4 4 4 4 4 4 4 4 4 4 4 4 4 4\n",
      " 4 4 4 4 4 4 4 4 4 4 4 4 4 4 4 4 4 4 4 4 4 4 4 4 4 4 4 4 4 4 4 4 4 4 4 4 4\n",
      " 4 4 4 4 4 4 4 4 4 4 4 4 4 4 4 4 4 4 4 4 4 4 4 4 4 4 4 4 4 4 4 4 4 4 4 4 4\n",
      " 4 4 4 4 4 4 4 4 4 4 4 4 4 4 4 4 4 4 4 4 4 4 4 4 4 4 4 4 4 4 4 4 4 4 4 4 4\n",
      " 4 4 4 4 4 4 4 4 4 4 4 4 4 4 4 4 4 4 4 4 4 4 4 4 4 4 4 4 4 4 4 4 4 4 4 4 4\n",
      " 4 4 4 4 4 4 4 4 4 4 4 4 4 4 4 4 4 4 4 4 4 4 4 4 4 4 4 4 4 4 4 4 4 4 4 4 4\n",
      " 4 4 4 4 4 4 4 4 4 4 4 4 4 4 4 4 4 4 4 4 4 4 4 4 4 4 4 4 4 4 4 4 4 4 4 4 4\n",
      " 4 4 4 4 4 4 4 4 4 4 4 4 4 4 4 4 4 4 4 4 4 4 4 4 4 4 4 4 4 4 4 4 4 4 4 4 4\n",
      " 4 4 4 4 4 4 4 4 4 4 4 4 4 4 4 4 4 4 4 4 4 4 4 4 4 4 4 4 4 4 4 4 4 4 4 4 4\n",
      " 4 4 4 4 4 4 4 4 4 4 4 4 4 4 4 4 4 4 4 4 4 4 4 4 4 4 4 4 4 4 4 4 4 4 4 4 4\n",
      " 4 4 4 4 4 4 4 4 4 4 4 4 4 4 4 4]\n",
      "[1 0 1 1 3 1 2 4 6 1 5 6 4 4 0 6 4 5 4 6 6 5 0 2 2 4 5 6 4 6 4 0 3 6 1 3 4\n",
      " 0 4 0 0 4 4 4 0 0 4 0 1 4 4 4 4 0 6 5 6 6 6 4 5 6 4 2 4 5 4 4 3 5 1 3 6 6\n",
      " 0 3 6 3 2 4 4 4 0 0 5 3 6 2 0 0 0 3 3 6 5 4 0 1 6 4 5 2 3 3 1 4 1 6 4 0 3\n",
      " 2 3 3 3 5 4 2 5 5 4 4 2 2 2 3 4 3 4 1 2 0 2 0 6 1 3 0 1 4 1 3 0 4 6 4 2 4\n",
      " 4 6 5 2 5 4 5 6 6 3 2 3 4 4 3 6 4 4 5 3 4 0 4 0 5 4 4 2 5 1 1 2 2 3 6 6 4\n",
      " 2 4 4 6 1 5 1 0 2 1 1 4 0 2 6 5 5 0 4 3 5 6 3 2 0 0 6 0 2 3 1 4 5 1 0 3 6\n",
      " 2 0 5 0 2 5 2 2 2 5 4 4 3 4 3 4 5 6 3 4 6 0 5 3 3 1 4 4 1 5 2 1 1 4 6 5 4\n",
      " 5 1 6 2 2 2 1 1 5 5 5 3 5 5 0 4 5 4 6 1 4 1 5 5 0 6 3 2 1 2 2 6 4 3 5 0 3\n",
      " 2 6 6 2 4 6 5 6 1 2 1 4 6 1 1 6 1 6 1 0 0 1 3 1 6 4 0 4 0 2 3 4 4 0 5 2 3\n",
      " 4 4 4 4 4 1 0 0 4 1 2 5 3 2 2 3 4 1 1 2 0 5 4 0 0 4 1 2 0 4 3 5 6 4 6 3 1\n",
      " 5 4 5 4 3 4 4 3 5 0 4 2 6 1 1 5 4 6 0 4 6 1 4 4 4 0 3 4 4 1 5 4 1 6 6 3 3\n",
      " 4 1 1 4 2 6 1 4 2 4 2 1 3 4 0 3 1 4 0 2 2 0 4 2 2 0 4 5 3 4 2 4 1 3 4 3 5\n",
      " 5 4 5 4 0 6 2 1 4 5 1 3 5 5 3 6]\n",
      "[4 4 4 4 4 4 4 4 4 4 4 4 4 4 4 4 4 4 4 4]\n",
      "[2 4 4 2 4 4 4 3 0 2 5 0 6 4 0 4 4 6 3 3]\n"
     ]
    }
   ],
   "source": [
    "predictions_X_train = predict(parameters, X_train)\n",
    "print(predictions_X_train)\n",
    "print(np.argmax(Y_train, axis=0))\n",
    "assert len(predictions_X_train) == Y_train.shape[1], \"length of {}\"\n",
    "predictions_X_test = predict(parameters, X_test)\n",
    "print(predictions_X_test)\n",
    "print(np.argmax(Y_test, axis=0))\n",
    "assert len(predictions_X_test) == Y_test.shape[1], \"length of {}\""
   ]
  },
  {
   "cell_type": "code",
   "execution_count": 31,
   "metadata": {},
   "outputs": [],
   "source": [
    "# def accuracy(predictions, Y):\n",
    "#     count = 0\n",
    "#     for i in zip(predictions, Y):\n",
    "#         if i[0] == i[1]:\n",
    "#             count += 1\n",
    "#     accuracy = count /len(predictions)\n",
    "#     return accuracy"
   ]
  },
  {
   "cell_type": "code",
   "execution_count": null,
   "metadata": {},
   "outputs": [],
   "source": [
    "# accuracy_train = accuracy(predictions_X_train, np.argmax(Y_train, axis=0))\n",
    "# accuracy_train"
   ]
  },
  {
   "cell_type": "code",
   "execution_count": null,
   "metadata": {},
   "outputs": [],
   "source": [
    "# accuracy_test = accuracy(predictions_X_test, np.argmax(Y_test, axis=0))\n",
    "# accuracy_test"
   ]
  },
  {
   "cell_type": "code",
   "execution_count": 32,
   "metadata": {},
   "outputs": [],
   "source": [
    "import os\n",
    "import json\n",
    "from datetime import datetime"
   ]
  },
  {
   "cell_type": "code",
   "execution_count": null,
   "metadata": {},
   "outputs": [],
   "source": [
    "# def save_results_to_file(exp_num):\n",
    "#     for i in range(exp_num):\n",
    "#         params = random_parameter_selection()\n",
    "#         layers_dims = [X.shape[0], params['hidden_size'], 7]\n",
    "#         parameters = L_layer_model(X_train, Y_train, layers_dims, learning_rate=params['learning_rate'], num_iterations=3000, print_cost=False)\n",
    "#         accuracy_test = accuracy(predict(parameters, X_test), np.argmax(Y_test, axis=0))\n",
    "\n",
    "#         experiment_dir = os.path.abspath(\"./experiments/{}_accuracy_{}\".format(datetime.now().strftime('%Y%m%d_%H%M%S_%f'),accuracy_test))\n",
    "#         if not os.path.exists(experiment_dir):\n",
    "#             os.makedirs(experiment_dir)\n",
    "\n",
    "#         parameter_data_file = os.path.join(experiment_dir, \"parameter.json\")\n",
    "\n",
    "#         with open(parameter_data_file, 'w') as f:\n",
    "#             json.dump(params, f)"
   ]
  },
  {
   "cell_type": "code",
   "execution_count": null,
   "metadata": {},
   "outputs": [],
   "source": [
    "# exp_num = 2\n",
    "# save_results_to_file(exp_num)"
   ]
  },
  {
   "cell_type": "markdown",
   "metadata": {},
   "source": [
    "### Hyperparameter tuning with cross validation"
   ]
  },
  {
   "cell_type": "code",
   "execution_count": 98,
   "metadata": {
    "scrolled": true
   },
   "outputs": [
    {
     "name": "stdout",
     "output_type": "stream",
     "text": [
      "(480, 8556) (480, 7)\n"
     ]
    }
   ],
   "source": [
    "from sklearn.model_selection import KFold\n",
    "X = X.T\n",
    "y = Y.T\n",
    "print(X.shape, y.shape)\n",
    "kf = KFold(n_splits=9, shuffle=True, random_state=0)"
   ]
  },
  {
   "cell_type": "code",
   "execution_count": 99,
   "metadata": {},
   "outputs": [],
   "source": [
    "from sklearn.model_selection import train_test_split\n",
    "X_trainval, X_test, y_trainval, y_test = train_test_split(X, y, test_size=0.1, random_state=42)"
   ]
  },
  {
   "cell_type": "code",
   "execution_count": 35,
   "metadata": {},
   "outputs": [],
   "source": [
    "from sklearn.metrics import f1_score"
   ]
  },
  {
   "cell_type": "code",
   "execution_count": 40,
   "metadata": {},
   "outputs": [],
   "source": [
    "def save_results_to_file_with_ht_and_cv(exp_num):\n",
    "    best_f1_score = 0\n",
    "    for i in tnrange(exp_num, desc='1st loop'):\n",
    "        params = random_parameter_selection()\n",
    "        layers_dims = [X.shape[1], params['hidden_size'], 7]\n",
    "        \n",
    "#         accuracy_train = []\n",
    "#         accuracy_val = []\n",
    "        f1_score_val = []\n",
    "        \n",
    "        # cross validataion with KFold n_splits\n",
    "        for train_index, val_index in kf.split(X_trainval):\n",
    "            X_train, X_val = X[train_index].T, X[val_index].T\n",
    "            y_train, y_val = y[train_index].T, y[val_index].T\n",
    "#             print(f'X_train: {X_train.shape},\\nX_test: {X_test.shape},\\ny_train: {y_train.shape},\\ny_test:{y_test.shape}')\n",
    "            \n",
    "            parameters = L_layer_model(X_train, y_train, layers_dims, learning_rate=params['learning_rate'], num_iterations=3000, print_cost=False)\n",
    "            prediction_X_train = predict(parameters, X_train)\n",
    "            prediction_X_val = predict(parameters, X_val)\n",
    "#             accuracy_train.append(accuracy(prediction_X_train, np.argmax(y_train, axis=0)))\n",
    "#             accuracy_val.append(accuracy(prediction_X_val, np.argmax(y_val, axis=0)))\n",
    "            f1_score_val.append(f1_score(np.argmax(y_val, axis=0), prediction_X_val, average='micro'))\n",
    "    \n",
    "#         accuracy_train_mean = np.array(accuracy_train).mean()\n",
    "#         accuracy_val_mean = np.array(accuracy_val).mean()  \n",
    "        f1_score_val_mean = np.array(f1_score_val).mean()\n",
    "        \n",
    "        if f1_score_val_mean > best_f1_score:\n",
    "            best_f1_score = f1_score_val_mean\n",
    "            best_params = params\n",
    "        \n",
    "#         experiment_dir = os.path.abspath(\"./experiments/{}_accuracy_{}\".format(datetime.now().strftime('%Y%m%d_%H%M%S_%f'),accuracy_val_mean))\n",
    "        experiment_dir = os.path.abspath(\"./experiments/{}_f1_score_{:.3f}\".format(datetime.now().strftime('%Y%m%d_%H%M%S_%f'), f1_score_val_mean))\n",
    "\n",
    "        if not os.path.exists(experiment_dir):\n",
    "                os.makedirs(experiment_dir)\n",
    "\n",
    "        parameter_data_file = os.path.join(experiment_dir, \"parameter.json\")\n",
    "\n",
    "        with open(parameter_data_file, 'w') as f:\n",
    "            json.dump(params, f)\n",
    "    return best_f1_score, best_params"
   ]
  },
  {
   "cell_type": "code",
   "execution_count": 74,
   "metadata": {
    "scrolled": false
   },
   "outputs": [
    {
     "data": {
      "application/vnd.jupyter.widget-view+json": {
       "model_id": "12b76857f63d419fb15939a7635cbb05",
       "version_major": 2,
       "version_minor": 0
      },
      "text/html": [
       "<p>Failed to display Jupyter Widget of type <code>HBox</code>.</p>\n",
       "<p>\n",
       "  If you're reading this message in the Jupyter Notebook or JupyterLab Notebook, it may mean\n",
       "  that the widgets JavaScript is still loading. If this message persists, it\n",
       "  likely means that the widgets JavaScript library is either not installed or\n",
       "  not enabled. See the <a href=\"https://ipywidgets.readthedocs.io/en/stable/user_install.html\">Jupyter\n",
       "  Widgets Documentation</a> for setup instructions.\n",
       "</p>\n",
       "<p>\n",
       "  If you're reading this message in another frontend (for example, a static\n",
       "  rendering on GitHub or <a href=\"https://nbviewer.jupyter.org/\">NBViewer</a>),\n",
       "  it may mean that your frontend doesn't currently support widgets.\n",
       "</p>\n"
      ],
      "text/plain": [
       "HBox(children=(IntProgress(value=0, description='1st loop', max=50), HTML(value='')))"
      ]
     },
     "metadata": {},
     "output_type": "display_data"
    },
    {
     "name": "stderr",
     "output_type": "stream",
     "text": [
      "c:\\anaconda3\\envs\\speechrecognition\\lib\\site-packages\\ipykernel_launcher.py:3: RuntimeWarning: divide by zero encountered in log\n",
      "  This is separate from the ipykernel package so we can avoid doing imports until\n",
      "c:\\anaconda3\\envs\\speechrecognition\\lib\\site-packages\\ipykernel_launcher.py:3: RuntimeWarning: invalid value encountered in multiply\n",
      "  This is separate from the ipykernel package so we can avoid doing imports until\n"
     ]
    }
   ],
   "source": [
    "exp_num = 50\n",
    "best_f1_score, best_params = save_results_to_file_with_ht_and_cv(exp_num)"
   ]
  },
  {
   "cell_type": "code",
   "execution_count": 75,
   "metadata": {
    "scrolled": false
   },
   "outputs": [
    {
     "name": "stdout",
     "output_type": "stream",
     "text": [
      "Cost after iteration 0: 97.432403\n"
     ]
    },
    {
     "name": "stderr",
     "output_type": "stream",
     "text": [
      "c:\\anaconda3\\envs\\speechrecognition\\lib\\site-packages\\ipykernel_launcher.py:3: RuntimeWarning: divide by zero encountered in log\n",
      "  This is separate from the ipykernel package so we can avoid doing imports until\n",
      "c:\\anaconda3\\envs\\speechrecognition\\lib\\site-packages\\ipykernel_launcher.py:3: RuntimeWarning: invalid value encountered in multiply\n",
      "  This is separate from the ipykernel package so we can avoid doing imports until\n"
     ]
    },
    {
     "name": "stdout",
     "output_type": "stream",
     "text": [
      "Cost after iteration 100: 1.916911\n",
      "Cost after iteration 200: 1.911408\n",
      "Cost after iteration 300: 1.910663\n",
      "Cost after iteration 400: 1.910567\n",
      "Cost after iteration 500: 1.910554\n",
      "Cost after iteration 600: 1.910553\n",
      "Cost after iteration 700: 1.910552\n",
      "Cost after iteration 800: 1.910552\n",
      "Cost after iteration 900: 1.910552\n",
      "Cost after iteration 1000: 1.910552\n",
      "Cost after iteration 1100: 1.910552\n",
      "Cost after iteration 1200: 1.910552\n",
      "Cost after iteration 1300: 1.910552\n",
      "Cost after iteration 1400: 1.910552\n",
      "Cost after iteration 1500: 1.910552\n",
      "Cost after iteration 1600: 1.910552\n",
      "Cost after iteration 1700: 1.910552\n",
      "Cost after iteration 1800: 1.910552\n",
      "Cost after iteration 1900: 1.910552\n",
      "Cost after iteration 2000: 1.910552\n",
      "Cost after iteration 2100: 1.910552\n",
      "Cost after iteration 2200: 1.910552\n",
      "Cost after iteration 2300: 1.910552\n",
      "Cost after iteration 2400: 1.910552\n",
      "Cost after iteration 2500: 1.910552\n",
      "Cost after iteration 2600: 1.910552\n",
      "Cost after iteration 2700: 1.910552\n",
      "Cost after iteration 2800: 1.910552\n",
      "Cost after iteration 2900: 1.910552\n"
     ]
    },
    {
     "data": {
      "image/png": "[encoded data removed]",
      "text/plain": [
       "<matplotlib.figure.Figure at 0x1c64d5d0d30>"
      ]
     },
     "metadata": {},
     "output_type": "display_data"
    }
   ],
   "source": [
    "best_weights_bias = L_layer_model(X_trainval.T, y_trainval.T, [8556, best_params['hidden_size'], 7], learning_rate=best_params['learning_rate'], num_iterations=3000, print_cost=True)"
   ]
  },
  {
   "cell_type": "code",
   "execution_count": 101,
   "metadata": {
    "scrolled": true
   },
   "outputs": [
    {
     "data": {
      "text/plain": [
       "array([4, 4, 4, 4, 4, 4, 4, 4, 4, 4, 4, 4, 4, 4, 4, 4, 4, 4, 4, 4, 4, 4, 4,\n",
       "       4, 4, 4, 4, 4, 4, 4, 4, 4, 4, 4, 4, 4, 4, 4, 4, 4, 4, 4, 4, 4, 4, 4,\n",
       "       4, 4], dtype=int64)"
      ]
     },
     "execution_count": 101,
     "metadata": {},
     "output_type": "execute_result"
    }
   ],
   "source": [
    "predict_X_test = predict(best_weights_bias, X_test.T)\n",
    "predict_X_test"
   ]
  },
  {
   "cell_type": "code",
   "execution_count": 102,
   "metadata": {},
   "outputs": [
    {
     "data": {
      "text/plain": [
       "(7, 48)"
      ]
     },
     "execution_count": 102,
     "metadata": {},
     "output_type": "execute_result"
    }
   ],
   "source": [
    "y_test = y_test.T\n",
    "y_test.shape"
   ]
  },
  {
   "cell_type": "code",
   "execution_count": 103,
   "metadata": {},
   "outputs": [
    {
     "name": "stdout",
     "output_type": "stream",
     "text": [
      "Micro average f1 score: 0.312\n"
     ]
    },
    {
     "ename": "ValueError",
     "evalue": "Found input variables with inconsistent numbers of samples: [7, 48]",
     "output_type": "error",
     "traceback": [
      "\u001b[1;31m---------------------------------------------------------------------------\u001b[0m",
      "\u001b[1;31mValueError\u001b[0m                                Traceback (most recent call last)",
      "\u001b[1;32m<ipython-input-103-750fb0f7c141>\u001b[0m in \u001b[0;36m<module>\u001b[1;34m()\u001b[0m\n\u001b[0;32m      1\u001b[0m \u001b[0mprint\u001b[0m\u001b[1;33m(\u001b[0m\u001b[1;34m\"Micro average f1 score: {:.3f}\"\u001b[0m\u001b[1;33m.\u001b[0m\u001b[0mformat\u001b[0m\u001b[1;33m(\u001b[0m\u001b[0mf1_score\u001b[0m\u001b[1;33m(\u001b[0m\u001b[0mnp\u001b[0m\u001b[1;33m.\u001b[0m\u001b[0margmax\u001b[0m\u001b[1;33m(\u001b[0m\u001b[0my_test\u001b[0m\u001b[1;33m,\u001b[0m \u001b[0maxis\u001b[0m\u001b[1;33m=\u001b[0m\u001b[1;36m0\u001b[0m\u001b[1;33m)\u001b[0m\u001b[1;33m,\u001b[0m \u001b[0mpredict_X_test\u001b[0m\u001b[1;33m,\u001b[0m \u001b[0maverage\u001b[0m\u001b[1;33m=\u001b[0m\u001b[1;34m'micro'\u001b[0m\u001b[1;33m)\u001b[0m\u001b[1;33m)\u001b[0m\u001b[1;33m)\u001b[0m\u001b[1;33m\u001b[0m\u001b[0m\n\u001b[1;32m----> 2\u001b[1;33m \u001b[0mprint\u001b[0m\u001b[1;33m(\u001b[0m\u001b[1;34m\"Macro average f1 score: {:.3f}\"\u001b[0m\u001b[1;33m.\u001b[0m\u001b[0mformat\u001b[0m\u001b[1;33m(\u001b[0m\u001b[0mf1_score\u001b[0m\u001b[1;33m(\u001b[0m\u001b[0my_test\u001b[0m\u001b[1;33m,\u001b[0m \u001b[0mpredict_X_test\u001b[0m\u001b[1;33m,\u001b[0m \u001b[0maverage\u001b[0m\u001b[1;33m=\u001b[0m\u001b[1;34m\"macro\"\u001b[0m\u001b[1;33m)\u001b[0m\u001b[1;33m)\u001b[0m\u001b[1;33m)\u001b[0m\u001b[1;33m\u001b[0m\u001b[0m\n\u001b[0m",
      "\u001b[1;32mc:\\anaconda3\\envs\\speechrecognition\\lib\\site-packages\\sklearn\\metrics\\classification.py\u001b[0m in \u001b[0;36mf1_score\u001b[1;34m(y_true, y_pred, labels, pos_label, average, sample_weight)\u001b[0m\n\u001b[0;32m    712\u001b[0m     return fbeta_score(y_true, y_pred, 1, labels=labels,\n\u001b[0;32m    713\u001b[0m                        \u001b[0mpos_label\u001b[0m\u001b[1;33m=\u001b[0m\u001b[0mpos_label\u001b[0m\u001b[1;33m,\u001b[0m \u001b[0maverage\u001b[0m\u001b[1;33m=\u001b[0m\u001b[0maverage\u001b[0m\u001b[1;33m,\u001b[0m\u001b[1;33m\u001b[0m\u001b[0m\n\u001b[1;32m--> 714\u001b[1;33m                        sample_weight=sample_weight)\n\u001b[0m\u001b[0;32m    715\u001b[0m \u001b[1;33m\u001b[0m\u001b[0m\n\u001b[0;32m    716\u001b[0m \u001b[1;33m\u001b[0m\u001b[0m\n",
      "\u001b[1;32mc:\\anaconda3\\envs\\speechrecognition\\lib\\site-packages\\sklearn\\metrics\\classification.py\u001b[0m in \u001b[0;36mfbeta_score\u001b[1;34m(y_true, y_pred, beta, labels, pos_label, average, sample_weight)\u001b[0m\n\u001b[0;32m    826\u001b[0m                                                  \u001b[0maverage\u001b[0m\u001b[1;33m=\u001b[0m\u001b[0maverage\u001b[0m\u001b[1;33m,\u001b[0m\u001b[1;33m\u001b[0m\u001b[0m\n\u001b[0;32m    827\u001b[0m                                                  \u001b[0mwarn_for\u001b[0m\u001b[1;33m=\u001b[0m\u001b[1;33m(\u001b[0m\u001b[1;34m'f-score'\u001b[0m\u001b[1;33m,\u001b[0m\u001b[1;33m)\u001b[0m\u001b[1;33m,\u001b[0m\u001b[1;33m\u001b[0m\u001b[0m\n\u001b[1;32m--> 828\u001b[1;33m                                                  sample_weight=sample_weight)\n\u001b[0m\u001b[0;32m    829\u001b[0m     \u001b[1;32mreturn\u001b[0m \u001b[0mf\u001b[0m\u001b[1;33m\u001b[0m\u001b[0m\n\u001b[0;32m    830\u001b[0m \u001b[1;33m\u001b[0m\u001b[0m\n",
      "\u001b[1;32mc:\\anaconda3\\envs\\speechrecognition\\lib\\site-packages\\sklearn\\metrics\\classification.py\u001b[0m in \u001b[0;36mprecision_recall_fscore_support\u001b[1;34m(y_true, y_pred, beta, labels, pos_label, average, warn_for, sample_weight)\u001b[0m\n\u001b[0;32m   1023\u001b[0m         \u001b[1;32mraise\u001b[0m \u001b[0mValueError\u001b[0m\u001b[1;33m(\u001b[0m\u001b[1;34m\"beta should be >0 in the F-beta score\"\u001b[0m\u001b[1;33m)\u001b[0m\u001b[1;33m\u001b[0m\u001b[0m\n\u001b[0;32m   1024\u001b[0m \u001b[1;33m\u001b[0m\u001b[0m\n\u001b[1;32m-> 1025\u001b[1;33m     \u001b[0my_type\u001b[0m\u001b[1;33m,\u001b[0m \u001b[0my_true\u001b[0m\u001b[1;33m,\u001b[0m \u001b[0my_pred\u001b[0m \u001b[1;33m=\u001b[0m \u001b[0m_check_targets\u001b[0m\u001b[1;33m(\u001b[0m\u001b[0my_true\u001b[0m\u001b[1;33m,\u001b[0m \u001b[0my_pred\u001b[0m\u001b[1;33m)\u001b[0m\u001b[1;33m\u001b[0m\u001b[0m\n\u001b[0m\u001b[0;32m   1026\u001b[0m     \u001b[0mpresent_labels\u001b[0m \u001b[1;33m=\u001b[0m \u001b[0munique_labels\u001b[0m\u001b[1;33m(\u001b[0m\u001b[0my_true\u001b[0m\u001b[1;33m,\u001b[0m \u001b[0my_pred\u001b[0m\u001b[1;33m)\u001b[0m\u001b[1;33m\u001b[0m\u001b[0m\n\u001b[0;32m   1027\u001b[0m \u001b[1;33m\u001b[0m\u001b[0m\n",
      "\u001b[1;32mc:\\anaconda3\\envs\\speechrecognition\\lib\\site-packages\\sklearn\\metrics\\classification.py\u001b[0m in \u001b[0;36m_check_targets\u001b[1;34m(y_true, y_pred)\u001b[0m\n\u001b[0;32m     69\u001b[0m     \u001b[0my_pred\u001b[0m \u001b[1;33m:\u001b[0m \u001b[0marray\u001b[0m \u001b[1;32mor\u001b[0m \u001b[0mindicator\u001b[0m \u001b[0mmatrix\u001b[0m\u001b[1;33m\u001b[0m\u001b[0m\n\u001b[0;32m     70\u001b[0m     \"\"\"\n\u001b[1;32m---> 71\u001b[1;33m     \u001b[0mcheck_consistent_length\u001b[0m\u001b[1;33m(\u001b[0m\u001b[0my_true\u001b[0m\u001b[1;33m,\u001b[0m \u001b[0my_pred\u001b[0m\u001b[1;33m)\u001b[0m\u001b[1;33m\u001b[0m\u001b[0m\n\u001b[0m\u001b[0;32m     72\u001b[0m     \u001b[0mtype_true\u001b[0m \u001b[1;33m=\u001b[0m \u001b[0mtype_of_target\u001b[0m\u001b[1;33m(\u001b[0m\u001b[0my_true\u001b[0m\u001b[1;33m)\u001b[0m\u001b[1;33m\u001b[0m\u001b[0m\n\u001b[0;32m     73\u001b[0m     \u001b[0mtype_pred\u001b[0m \u001b[1;33m=\u001b[0m \u001b[0mtype_of_target\u001b[0m\u001b[1;33m(\u001b[0m\u001b[0my_pred\u001b[0m\u001b[1;33m)\u001b[0m\u001b[1;33m\u001b[0m\u001b[0m\n",
      "\u001b[1;32mc:\\anaconda3\\envs\\speechrecognition\\lib\\site-packages\\sklearn\\utils\\validation.py\u001b[0m in \u001b[0;36mcheck_consistent_length\u001b[1;34m(*arrays)\u001b[0m\n\u001b[0;32m    202\u001b[0m     \u001b[1;32mif\u001b[0m \u001b[0mlen\u001b[0m\u001b[1;33m(\u001b[0m\u001b[0muniques\u001b[0m\u001b[1;33m)\u001b[0m \u001b[1;33m>\u001b[0m \u001b[1;36m1\u001b[0m\u001b[1;33m:\u001b[0m\u001b[1;33m\u001b[0m\u001b[0m\n\u001b[0;32m    203\u001b[0m         raise ValueError(\"Found input variables with inconsistent numbers of\"\n\u001b[1;32m--> 204\u001b[1;33m                          \" samples: %r\" % [int(l) for l in lengths])\n\u001b[0m\u001b[0;32m    205\u001b[0m \u001b[1;33m\u001b[0m\u001b[0m\n\u001b[0;32m    206\u001b[0m \u001b[1;33m\u001b[0m\u001b[0m\n",
      "\u001b[1;31mValueError\u001b[0m: Found input variables with inconsistent numbers of samples: [7, 48]"
     ]
    }
   ],
   "source": [
    "print(\"Micro average f1 score: {:.3f}\".format(f1_score(np.argmax(y_test, axis=0), predict_X_test, average='micro')))\n",
    "print(\"Macro average f1 score: {:.3f}\".format(f1_score(y_test, predict_X_test, average=\"macro\")))"
   ]
  },
  {
   "cell_type": "code",
   "execution_count": 104,
   "metadata": {},
   "outputs": [
    {
     "name": "stderr",
     "output_type": "stream",
     "text": [
      "c:\\anaconda3\\envs\\speechrecognition\\lib\\site-packages\\sklearn\\metrics\\classification.py:1135: UndefinedMetricWarning: Precision and F-score are ill-defined and being set to 0.0 in labels with no predicted samples.\n",
      "  'precision', 'predicted', average, warn_for)\n"
     ]
    },
    {
     "name": "stdout",
     "output_type": "stream",
     "text": [
      "             precision    recall  f1-score   support\n",
      "\n",
      "          0       0.00      0.00      0.00         3\n",
      "          1       0.00      0.00      0.00         6\n",
      "          2       0.00      0.00      0.00         8\n",
      "          3       0.00      0.00      0.00         5\n",
      "          4       0.31      1.00      0.48        15\n",
      "          5       0.00      0.00      0.00         6\n",
      "          6       0.00      0.00      0.00         5\n",
      "\n",
      "avg / total       0.10      0.31      0.15        48\n",
      "\n"
     ]
    }
   ],
   "source": [
    "print(classification_report(np.argmax(y_test, axis=0), predict_X_test))"
   ]
  },
  {
   "cell_type": "code",
   "execution_count": null,
   "metadata": {},
   "outputs": [],
   "source": []
  }
 ],
 "metadata": {
  "kernelspec": {
   "display_name": "Python 3",
   "language": "python",
   "name": "python3"
  },
  "language_info": {
   "codemirror_mode": {
    "name": "ipython",
    "version": 3
   },
   "file_extension": ".py",
   "mimetype": "text/x-python",
   "name": "python",
   "nbconvert_exporter": "python",
   "pygments_lexer": "ipython3",
   "version": "3.6.2"
  }
 },
 "nbformat": 4,
 "nbformat_minor": 2
}
